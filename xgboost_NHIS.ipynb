{
 "cells": [
  {
   "cell_type": "code",
   "execution_count": 1,
   "id": "19ac560e",
   "metadata": {},
   "outputs": [
    {
     "name": "stdout",
     "output_type": "stream",
     "text": [
      "1.6.1\n"
     ]
    }
   ],
   "source": [
    "# regression: https://machinelearningmastery.com/xgboost-for-regression/\n",
    "# classifier: https://machinelearningmastery.com/develop-first-xgboost-model-python-scikit-learn/\n",
    "import numpy as np\n",
    "import pandas as pd\n",
    "import matplotlib.pyplot as plt\n",
    "\n",
    "import xgboost\n",
    "print(xgboost.__version__)\n",
    "\n",
    "from sklearn.model_selection import RepeatedKFold\n",
    "from sklearn.model_selection import cross_val_score\n",
    "\n",
    "from numpy import loadtxt\n",
    "from xgboost import XGBClassifier\n",
    "from sklearn.model_selection import train_test_split\n",
    "from sklearn.metrics import accuracy_score"
   ]
  },
  {
   "cell_type": "code",
   "execution_count": 2,
   "id": "d39d1478",
   "metadata": {
    "scrolled": true
   },
   "outputs": [
    {
     "data": {
      "text/html": [
       "<div>\n",
       "<style scoped>\n",
       "    .dataframe tbody tr th:only-of-type {\n",
       "        vertical-align: middle;\n",
       "    }\n",
       "\n",
       "    .dataframe tbody tr th {\n",
       "        vertical-align: top;\n",
       "    }\n",
       "\n",
       "    .dataframe thead th {\n",
       "        text-align: right;\n",
       "    }\n",
       "</style>\n",
       "<table border=\"1\" class=\"dataframe\">\n",
       "  <thead>\n",
       "    <tr style=\"text-align: right;\">\n",
       "      <th></th>\n",
       "      <th>URBRRL</th>\n",
       "      <th>RATCAT_A</th>\n",
       "      <th>INCGRP_A</th>\n",
       "      <th>INCTCFLG_A</th>\n",
       "      <th>FAMINCTC_A</th>\n",
       "      <th>IMPINCFLG_A</th>\n",
       "      <th>PPSU</th>\n",
       "      <th>PSTRAT</th>\n",
       "      <th>HISPALLP_A</th>\n",
       "      <th>RACEALLP_A</th>\n",
       "      <th>...</th>\n",
       "      <th>ANGEV_A</th>\n",
       "      <th>CHDEV_A</th>\n",
       "      <th>CHLEV_A</th>\n",
       "      <th>HYPEV_A</th>\n",
       "      <th>PHSTAT_A</th>\n",
       "      <th>AVAIL_A</th>\n",
       "      <th>INTV_QRT</th>\n",
       "      <th>WTFA_A</th>\n",
       "      <th>WTIA_A</th>\n",
       "      <th>POVRATTC_A</th>\n",
       "    </tr>\n",
       "  </thead>\n",
       "  <tbody>\n",
       "    <tr>\n",
       "      <th>0</th>\n",
       "      <td>4</td>\n",
       "      <td>9</td>\n",
       "      <td>3</td>\n",
       "      <td>0</td>\n",
       "      <td>60000</td>\n",
       "      <td>2</td>\n",
       "      <td>2</td>\n",
       "      <td>122</td>\n",
       "      <td>3</td>\n",
       "      <td>2</td>\n",
       "      <td>...</td>\n",
       "      <td>2</td>\n",
       "      <td>2</td>\n",
       "      <td>1</td>\n",
       "      <td>2</td>\n",
       "      <td>3</td>\n",
       "      <td>1</td>\n",
       "      <td>1</td>\n",
       "      <td>13177.008</td>\n",
       "      <td>7601.336</td>\n",
       "      <td>2.96</td>\n",
       "    </tr>\n",
       "    <tr>\n",
       "      <th>1</th>\n",
       "      <td>4</td>\n",
       "      <td>9</td>\n",
       "      <td>3</td>\n",
       "      <td>0</td>\n",
       "      <td>50000</td>\n",
       "      <td>0</td>\n",
       "      <td>2</td>\n",
       "      <td>122</td>\n",
       "      <td>2</td>\n",
       "      <td>1</td>\n",
       "      <td>...</td>\n",
       "      <td>2</td>\n",
       "      <td>2</td>\n",
       "      <td>2</td>\n",
       "      <td>2</td>\n",
       "      <td>1</td>\n",
       "      <td>1</td>\n",
       "      <td>1</td>\n",
       "      <td>6140.552</td>\n",
       "      <td>3344.434</td>\n",
       "      <td>2.97</td>\n",
       "    </tr>\n",
       "    <tr>\n",
       "      <th>2</th>\n",
       "      <td>4</td>\n",
       "      <td>12</td>\n",
       "      <td>3</td>\n",
       "      <td>0</td>\n",
       "      <td>65000</td>\n",
       "      <td>1</td>\n",
       "      <td>2</td>\n",
       "      <td>122</td>\n",
       "      <td>2</td>\n",
       "      <td>1</td>\n",
       "      <td>...</td>\n",
       "      <td>2</td>\n",
       "      <td>2</td>\n",
       "      <td>1</td>\n",
       "      <td>1</td>\n",
       "      <td>3</td>\n",
       "      <td>1</td>\n",
       "      <td>1</td>\n",
       "      <td>9191.061</td>\n",
       "      <td>6949.498</td>\n",
       "      <td>4.28</td>\n",
       "    </tr>\n",
       "    <tr>\n",
       "      <th>3</th>\n",
       "      <td>4</td>\n",
       "      <td>14</td>\n",
       "      <td>5</td>\n",
       "      <td>0</td>\n",
       "      <td>120000</td>\n",
       "      <td>0</td>\n",
       "      <td>2</td>\n",
       "      <td>122</td>\n",
       "      <td>1</td>\n",
       "      <td>8</td>\n",
       "      <td>...</td>\n",
       "      <td>2</td>\n",
       "      <td>2</td>\n",
       "      <td>2</td>\n",
       "      <td>1</td>\n",
       "      <td>2</td>\n",
       "      <td>1</td>\n",
       "      <td>1</td>\n",
       "      <td>7900.035</td>\n",
       "      <td>6446.327</td>\n",
       "      <td>7.13</td>\n",
       "    </tr>\n",
       "    <tr>\n",
       "      <th>4</th>\n",
       "      <td>1</td>\n",
       "      <td>4</td>\n",
       "      <td>1</td>\n",
       "      <td>0</td>\n",
       "      <td>30000</td>\n",
       "      <td>0</td>\n",
       "      <td>2</td>\n",
       "      <td>115</td>\n",
       "      <td>2</td>\n",
       "      <td>1</td>\n",
       "      <td>...</td>\n",
       "      <td>1</td>\n",
       "      <td>1</td>\n",
       "      <td>1</td>\n",
       "      <td>1</td>\n",
       "      <td>4</td>\n",
       "      <td>1</td>\n",
       "      <td>1</td>\n",
       "      <td>10875.772</td>\n",
       "      <td>8646.586</td>\n",
       "      <td>1.13</td>\n",
       "    </tr>\n",
       "  </tbody>\n",
       "</table>\n",
       "<p>5 rows × 163 columns</p>\n",
       "</div>"
      ],
      "text/plain": [
       "   URBRRL  RATCAT_A  INCGRP_A  INCTCFLG_A  FAMINCTC_A  IMPINCFLG_A  PPSU  \\\n",
       "0       4         9         3           0       60000            2     2   \n",
       "1       4         9         3           0       50000            0     2   \n",
       "2       4        12         3           0       65000            1     2   \n",
       "3       4        14         5           0      120000            0     2   \n",
       "4       1         4         1           0       30000            0     2   \n",
       "\n",
       "   PSTRAT  HISPALLP_A  RACEALLP_A  ...  ANGEV_A  CHDEV_A  CHLEV_A  HYPEV_A  \\\n",
       "0     122           3           2  ...        2        2        1        2   \n",
       "1     122           2           1  ...        2        2        2        2   \n",
       "2     122           2           1  ...        2        2        1        1   \n",
       "3     122           1           8  ...        2        2        2        1   \n",
       "4     115           2           1  ...        1        1        1        1   \n",
       "\n",
       "   PHSTAT_A  AVAIL_A  INTV_QRT     WTFA_A    WTIA_A  POVRATTC_A  \n",
       "0         3        1         1  13177.008  7601.336        2.96  \n",
       "1         1        1         1   6140.552  3344.434        2.97  \n",
       "2         3        1         1   9191.061  6949.498        4.28  \n",
       "3         2        1         1   7900.035  6446.327        7.13  \n",
       "4         4        1         1  10875.772  8646.586        1.13  \n",
       "\n",
       "[5 rows x 163 columns]"
      ]
     },
     "execution_count": 2,
     "metadata": {},
     "output_type": "execute_result"
    }
   ],
   "source": [
    "depev_final = pd.read_csv('depev_final.csv')\n",
    "depev_final.drop(depev_final.columns[depev_final.columns.str.contains('unnamed',case = False)],axis = 1, inplace = True)\n",
    "depev_final.head()"
   ]
  },
  {
   "cell_type": "code",
   "execution_count": 3,
   "id": "93a07cba",
   "metadata": {},
   "outputs": [
    {
     "data": {
      "text/plain": [
       "(31959, 163)"
      ]
     },
     "execution_count": 3,
     "metadata": {},
     "output_type": "execute_result"
    }
   ],
   "source": [
    "depev_final.shape"
   ]
  },
  {
   "cell_type": "markdown",
   "id": "210632cd",
   "metadata": {},
   "source": [
    "n_estimators: The number of trees in the ensemble, often increased until no further improvements are seen.\n",
    "\n",
    "max_depth: The maximum depth of each tree, often values are between 1 and 10.\n",
    "\n",
    "eta: The learning rate used to weight each model, often set to small values such as 0.3, 0.1, 0.01, or smaller.\n",
    "\n",
    "subsample: The number of samples (rows) used in each tree, set to a value between 0 and 1, often 1.0 to use all samples.\n",
    "\n",
    "colsample_bytree: Number of features (columns) used in each tree, set to a value between 0 and 1, often 1.0 to use all features."
   ]
  },
  {
   "cell_type": "code",
   "execution_count": 4,
   "id": "a0824860",
   "metadata": {},
   "outputs": [],
   "source": [
    "# create an xgboost regression model\n",
    "model = xgboost.XGBRegressor()"
   ]
  },
  {
   "cell_type": "code",
   "execution_count": 33,
   "id": "66ff2f09",
   "metadata": {},
   "outputs": [
    {
     "name": "stdout",
     "output_type": "stream",
     "text": [
      "Train:(15980, 163)\n",
      "Test:(15980, 163)\n"
     ]
    }
   ],
   "source": [
    "# split data into input and output columns, training and testing data\n",
    "depev_data = depev_final.sample(frac=1)\n",
    "\n",
    "# rerun at 50/50\n",
    "train = depev_data.sample(frac=0.5)\n",
    "print('Train:' + str(train.shape))\n",
    "\n",
    "test = depev_data.sample(frac=0.5)\n",
    "print('Test:' + str(test.shape))\n",
    "\n",
    "x_train, y_train = train.drop(['DEPEV_A'], axis=1), train['DEPEV_A']\n",
    "x_test, y_test = test.drop(['DEPEV_A'], axis=1), test['DEPEV_A']"
   ]
  },
  {
   "cell_type": "code",
   "execution_count": 20,
   "id": "08708481",
   "metadata": {
    "scrolled": true
   },
   "outputs": [
    {
     "data": {
      "text/plain": [
       "23088    2\n",
       "14987    2\n",
       "15556    2\n",
       "4264     2\n",
       "31842    2\n",
       "Name: DEPEV_A, dtype: int64"
      ]
     },
     "execution_count": 20,
     "metadata": {},
     "output_type": "execute_result"
    }
   ],
   "source": [
    "y_train.head()"
   ]
  },
  {
   "cell_type": "code",
   "execution_count": 21,
   "id": "30ce3394",
   "metadata": {},
   "outputs": [
    {
     "data": {
      "text/plain": [
       "2    21168\n",
       "1     4376\n",
       "9       23\n",
       "Name: DEPEV_A, dtype: int64"
      ]
     },
     "execution_count": 21,
     "metadata": {},
     "output_type": "execute_result"
    }
   ],
   "source": [
    "y_train.value_counts()"
   ]
  },
  {
   "cell_type": "code",
   "execution_count": 34,
   "id": "bc2debb8",
   "metadata": {},
   "outputs": [],
   "source": [
    "# define model evaluation method\n",
    "cv = RepeatedKFold(n_splits=10, n_repeats=3, random_state=1)\n",
    "\n",
    "# evaluate model\n",
    "scores = cross_val_score(model, x_train, y_train, scoring='neg_mean_absolute_error', cv=cv, n_jobs=-1)"
   ]
  },
  {
   "cell_type": "code",
   "execution_count": 35,
   "id": "9d363a59",
   "metadata": {},
   "outputs": [
    {
     "name": "stdout",
     "output_type": "stream",
     "text": [
      "Mean MAE: 0.145 (0.009)\n"
     ]
    }
   ],
   "source": [
    "# force scores to be positive\n",
    "scores = np.absolute(scores)\n",
    "print('Mean MAE: %.3f (%.3f)' % (scores.mean(), scores.std()) )"
   ]
  },
  {
   "cell_type": "code",
   "execution_count": 36,
   "id": "86f55096",
   "metadata": {},
   "outputs": [
    {
     "data": {
      "text/plain": [
       "0.8963809116480467"
      ]
     },
     "execution_count": 36,
     "metadata": {},
     "output_type": "execute_result"
    }
   ],
   "source": [
    "model.fit(x_train, y_train)\n",
    "model.score(x_train, y_train)"
   ]
  },
  {
   "cell_type": "code",
   "execution_count": 37,
   "id": "ef543eaf",
   "metadata": {
    "scrolled": true
   },
   "outputs": [
    {
     "name": "stdout",
     "output_type": "stream",
     "text": [
      "Predicted: 1.976\n"
     ]
    }
   ],
   "source": [
    "model = xgboost.XGBRegressor()\n",
    "model.fit(x_train, y_train)"
   ]
  },
  {
   "cell_type": "code",
   "execution_count": null,
   "id": "86dd7d95",
   "metadata": {},
   "outputs": [],
   "source": [
    "yhat = model.predict(x_test)\n",
    "print('Predicted: %.3f' % yhat[0])"
   ]
  },
  {
   "cell_type": "code",
   "execution_count": 38,
   "id": "4bfed710",
   "metadata": {
    "scrolled": true
   },
   "outputs": [
    {
     "data": {
      "text/plain": [
       "0.6809073346992567"
      ]
     },
     "execution_count": 38,
     "metadata": {},
     "output_type": "execute_result"
    }
   ],
   "source": [
    "model.score(x_test, y_test)"
   ]
  },
  {
   "cell_type": "markdown",
   "id": "650ae6c0",
   "metadata": {},
   "source": [
    "Here we will use an XGBoost classifier:"
   ]
  },
  {
   "cell_type": "code",
   "execution_count": 12,
   "id": "92bf2db5",
   "metadata": {},
   "outputs": [],
   "source": [
    "x = depev_final.drop(['DEPEV_A'], axis=1)\n",
    "y = depev_final['DEPEV_A']"
   ]
  },
  {
   "cell_type": "code",
   "execution_count": 13,
   "id": "1a138527",
   "metadata": {},
   "outputs": [],
   "source": [
    "seed = 7\n",
    "test_size = 0.33\n",
    "x2_train, x2_test, y2_train, y2_test = train_test_split(x, y, test_size=test_size, random_state=seed)"
   ]
  },
  {
   "cell_type": "code",
   "execution_count": 15,
   "id": "7de31a89",
   "metadata": {},
   "outputs": [
    {
     "data": {
      "text/plain": [
       "14931    2\n",
       "24159    1\n",
       "19724    2\n",
       "9056     1\n",
       "28195    2\n",
       "Name: DEPEV_A, dtype: int64"
      ]
     },
     "execution_count": 15,
     "metadata": {},
     "output_type": "execute_result"
    }
   ],
   "source": [
    "y2_train.head()"
   ]
  },
  {
   "cell_type": "code",
   "execution_count": 16,
   "id": "9c2b0637",
   "metadata": {
    "scrolled": true
   },
   "outputs": [
    {
     "name": "stdout",
     "output_type": "stream",
     "text": [
      "<class 'pandas.core.series.Series'>\n",
      "Int64Index: 21412 entries, 14931 to 28847\n",
      "Series name: DEPEV_A\n",
      "Non-Null Count  Dtype\n",
      "--------------  -----\n",
      "21412 non-null  int64\n",
      "dtypes: int64(1)\n",
      "memory usage: 334.6 KB\n"
     ]
    }
   ],
   "source": [
    "y2_train.info()"
   ]
  },
  {
   "cell_type": "code",
   "execution_count": 19,
   "id": "8244b176",
   "metadata": {
    "scrolled": true
   },
   "outputs": [
    {
     "data": {
      "text/plain": [
       "2    17761\n",
       "1     3636\n",
       "9       15\n",
       "Name: DEPEV_A, dtype: int64"
      ]
     },
     "execution_count": 19,
     "metadata": {},
     "output_type": "execute_result"
    }
   ],
   "source": [
    "y2_train.value_counts()"
   ]
  },
  {
   "cell_type": "code",
   "execution_count": 22,
   "id": "6735b89e",
   "metadata": {},
   "outputs": [],
   "source": [
    "from sklearn.preprocessing import LabelEncoder\n",
    "le = LabelEncoder()\n",
    "y2_train = le.fit_transform(y2_train)"
   ]
  },
  {
   "cell_type": "code",
   "execution_count": 28,
   "id": "2eb7bd59",
   "metadata": {
    "scrolled": false
   },
   "outputs": [
    {
     "name": "stdout",
     "output_type": "stream",
     "text": [
      "XGBClassifier(base_score=0.5, booster='gbtree', callbacks=None,\n",
      "              colsample_bylevel=1, colsample_bynode=1, colsample_bytree=1,\n",
      "              early_stopping_rounds=None, enable_categorical=False,\n",
      "              eval_metric=None, gamma=0, gpu_id=-1, grow_policy='depthwise',\n",
      "              importance_type=None, interaction_constraints='',\n",
      "              learning_rate=0.300000012, max_bin=256, max_cat_to_onehot=4,\n",
      "              max_delta_step=0, max_depth=6, max_leaves=0, min_child_weight=1,\n",
      "              missing=nan, monotone_constraints='()', n_estimators=100,\n",
      "              n_jobs=0, num_parallel_tree=1, objective='multi:softprob',\n",
      "              predictor='auto', random_state=0, reg_alpha=0, ...)\n"
     ]
    }
   ],
   "source": [
    "classifier = XGBClassifier()\n",
    "classifier.fit(x2_train, y2_train)\n",
    "print(classifier)"
   ]
  },
  {
   "cell_type": "markdown",
   "id": "65d9ea44",
   "metadata": {},
   "source": [
    "What is happening here???"
   ]
  },
  {
   "cell_type": "code",
   "execution_count": 29,
   "id": "8f57a21f",
   "metadata": {
    "scrolled": true
   },
   "outputs": [
    {
     "data": {
      "text/plain": [
       "0.9920138240239118"
      ]
     },
     "execution_count": 29,
     "metadata": {},
     "output_type": "execute_result"
    }
   ],
   "source": [
    "classifier.score(x2_train, y2_train)"
   ]
  },
  {
   "cell_type": "markdown",
   "id": "2309e424",
   "metadata": {},
   "source": [
    "This is the accuracy score (pretty high) for the regression model above:"
   ]
  },
  {
   "cell_type": "code",
   "execution_count": 57,
   "id": "331b764a",
   "metadata": {
    "scrolled": true
   },
   "outputs": [
    {
     "name": "stdout",
     "output_type": "stream",
     "text": [
      "Accuracy: 95.10%\n"
     ]
    }
   ],
   "source": [
    "y_pred = model.predict(x2_test)\n",
    "predictions = [round(value) for value in y_pred]\n",
    "# evaluate predictions\n",
    "accuracy = accuracy_score(y2_test, predictions)\n",
    "print(\"Accuracy: %.2f%%\" % (accuracy * 100.0))"
   ]
  },
  {
   "cell_type": "markdown",
   "id": "9d96da10",
   "metadata": {},
   "source": [
    "And this is the accuracy score for the classifier, which is very low:"
   ]
  },
  {
   "cell_type": "code",
   "execution_count": 58,
   "id": "744e6016",
   "metadata": {},
   "outputs": [
    {
     "name": "stdout",
     "output_type": "stream",
     "text": [
      "Accuracy: 4.52%\n"
     ]
    }
   ],
   "source": [
    "y_pred = classifier.predict(x2_test)\n",
    "predictions = [round(value) for value in y_pred]\n",
    "# evaluate predictions\n",
    "accuracy = accuracy_score(y2_test, predictions)\n",
    "print(\"Accuracy: %.2f%%\" % (accuracy * 100.0))"
   ]
  },
  {
   "cell_type": "code",
   "execution_count": 59,
   "id": "68456611",
   "metadata": {},
   "outputs": [
    {
     "data": {
      "text/plain": [
       "0.6415998960332137"
      ]
     },
     "execution_count": 59,
     "metadata": {},
     "output_type": "execute_result"
    }
   ],
   "source": [
    "model.score(x2_test, y2_test)"
   ]
  },
  {
   "cell_type": "code",
   "execution_count": 56,
   "id": "56e76e89",
   "metadata": {
    "scrolled": true
   },
   "outputs": [
    {
     "data": {
      "text/plain": [
       "0.04522613065326633"
      ]
     },
     "execution_count": 56,
     "metadata": {},
     "output_type": "execute_result"
    }
   ],
   "source": [
    "classifier.score(x2_test, y2_test)"
   ]
  },
  {
   "cell_type": "markdown",
   "id": "ee1338ee",
   "metadata": {},
   "source": [
    "Here we analyze feature importance:"
   ]
  },
  {
   "cell_type": "code",
   "execution_count": null,
   "id": "02ba0180",
   "metadata": {},
   "outputs": [],
   "source": [
    "# https://machinelearningmastery.com/feature-importance-and-feature-selection-with-xgboost-in-python/\n",
    "# https://predictivehacks.com/feature-importance-in-python/"
   ]
  },
  {
   "cell_type": "code",
   "execution_count": 43,
   "id": "efea7ae8",
   "metadata": {},
   "outputs": [
    {
     "data": {
      "text/html": [
       "<div>\n",
       "<style scoped>\n",
       "    .dataframe tbody tr th:only-of-type {\n",
       "        vertical-align: middle;\n",
       "    }\n",
       "\n",
       "    .dataframe tbody tr th {\n",
       "        vertical-align: top;\n",
       "    }\n",
       "\n",
       "    .dataframe thead th {\n",
       "        text-align: right;\n",
       "    }\n",
       "</style>\n",
       "<table border=\"1\" class=\"dataframe\">\n",
       "  <thead>\n",
       "    <tr style=\"text-align: right;\">\n",
       "      <th></th>\n",
       "      <th>features</th>\n",
       "      <th>feature_importance</th>\n",
       "    </tr>\n",
       "  </thead>\n",
       "  <tbody>\n",
       "    <tr>\n",
       "      <th>90</th>\n",
       "      <td>DEPMED_A</td>\n",
       "      <td>0.259740</td>\n",
       "    </tr>\n",
       "    <tr>\n",
       "      <th>142</th>\n",
       "      <td>ANXEV_A</td>\n",
       "      <td>0.070408</td>\n",
       "    </tr>\n",
       "    <tr>\n",
       "      <th>91</th>\n",
       "      <td>DEPFREQ_A</td>\n",
       "      <td>0.040654</td>\n",
       "    </tr>\n",
       "    <tr>\n",
       "      <th>85</th>\n",
       "      <td>PHQ82_A</td>\n",
       "      <td>0.011383</td>\n",
       "    </tr>\n",
       "    <tr>\n",
       "      <th>92</th>\n",
       "      <td>ANXMED_A</td>\n",
       "      <td>0.009525</td>\n",
       "    </tr>\n",
       "    <tr>\n",
       "      <th>...</th>\n",
       "      <td>...</td>\n",
       "      <td>...</td>\n",
       "    </tr>\n",
       "    <tr>\n",
       "      <th>50</th>\n",
       "      <td>HISP_A</td>\n",
       "      <td>0.000000</td>\n",
       "    </tr>\n",
       "    <tr>\n",
       "      <th>122</th>\n",
       "      <td>HIKIND05_A</td>\n",
       "      <td>0.000000</td>\n",
       "    </tr>\n",
       "    <tr>\n",
       "      <th>36</th>\n",
       "      <td>CHIP_A</td>\n",
       "      <td>0.000000</td>\n",
       "    </tr>\n",
       "    <tr>\n",
       "      <th>120</th>\n",
       "      <td>HIKIND07_A</td>\n",
       "      <td>0.000000</td>\n",
       "    </tr>\n",
       "    <tr>\n",
       "      <th>19</th>\n",
       "      <td>FDSCAT3_A</td>\n",
       "      <td>0.000000</td>\n",
       "    </tr>\n",
       "  </tbody>\n",
       "</table>\n",
       "<p>162 rows × 2 columns</p>\n",
       "</div>"
      ],
      "text/plain": [
       "       features  feature_importance\n",
       "90     DEPMED_A            0.259740\n",
       "142     ANXEV_A            0.070408\n",
       "91    DEPFREQ_A            0.040654\n",
       "85      PHQ82_A            0.011383\n",
       "92     ANXMED_A            0.009525\n",
       "..          ...                 ...\n",
       "50       HISP_A            0.000000\n",
       "122  HIKIND05_A            0.000000\n",
       "36       CHIP_A            0.000000\n",
       "120  HIKIND07_A            0.000000\n",
       "19    FDSCAT3_A            0.000000\n",
       "\n",
       "[162 rows x 2 columns]"
      ]
     },
     "execution_count": 43,
     "metadata": {},
     "output_type": "execute_result"
    }
   ],
   "source": [
    "feature_importances=pd.DataFrame({'features':x.columns,'feature_importance':classifier.feature_importances_})\n",
    "feature_importances.sort_values('feature_importance',ascending=False)"
   ]
  },
  {
   "cell_type": "code",
   "execution_count": 40,
   "id": "69678a91",
   "metadata": {},
   "outputs": [
    {
     "name": "stdout",
     "output_type": "stream",
     "text": [
      "[0.00352262 0.00322791 0.00420817 0.00343808 0.00412859 0.00311672\n",
      " 0.00389982 0.00393993 0.00394973 0.00366891 0.00431249 0.00616684\n",
      " 0.00604175 0.00494392 0.00372553 0.00313941 0.00501842 0.00471613\n",
      " 0.00446578 0.         0.00431261 0.00359246 0.00437557 0.00368864\n",
      " 0.00385475 0.00409548 0.00360048 0.00396652 0.00388161 0.00399619\n",
      " 0.00374433 0.00385024 0.         0.00071357 0.00360701 0.0037199\n",
      " 0.         0.00176025 0.00223075 0.00304377 0.00389517 0.00392599\n",
      " 0.0055971  0.00242857 0.00459626 0.00424845 0.00388371 0.00318874\n",
      " 0.00447537 0.00415005 0.         0.00385573 0.00571434 0.00399378\n",
      " 0.00670819 0.0035619  0.00409919 0.00327995 0.00498812 0.00512782\n",
      " 0.00390673 0.00334307 0.00447866 0.00510926 0.00382367 0.005038\n",
      " 0.00424683 0.0040755  0.00404422 0.00352901 0.         0.00375227\n",
      " 0.00367747 0.00401334 0.00364988 0.00333114 0.00475593 0.00351596\n",
      " 0.00447153 0.00382169 0.00288543 0.0047317  0.00350141 0.00425346\n",
      " 0.00486333 0.01138295 0.00287152 0.00509918 0.0040858  0.00920754\n",
      " 0.2597399  0.04065415 0.00952546 0.00503121 0.00509494 0.00310426\n",
      " 0.00360636 0.00316927 0.00254819 0.00379601 0.00448547 0.00237485\n",
      " 0.00361538 0.00283814 0.00374402 0.0035256  0.00340939 0.00442189\n",
      " 0.00303954 0.00367282 0.00388585 0.00375751 0.00285449 0.00424799\n",
      " 0.00407172 0.00421357 0.00257377 0.00704184 0.00202162 0.00336049\n",
      " 0.         0.0052013  0.         0.00334461 0.0042177  0.0038356\n",
      " 0.00414224 0.00430555 0.0024752  0.00461892 0.00443431 0.00360767\n",
      " 0.00428395 0.00407403 0.00756841 0.00346798 0.0052149  0.00411276\n",
      " 0.00450179 0.00284283 0.00374654 0.00480495 0.07040755 0.00282594\n",
      " 0.00671189 0.00551428 0.00436374 0.0033292  0.00394761 0.005712\n",
      " 0.00398389 0.00415121 0.00594499 0.00397084 0.00436207 0.00350877\n",
      " 0.00521551 0.00310011 0.0035103  0.00396265 0.00398243 0.00441825]\n"
     ]
    }
   ],
   "source": [
    "print(classifier.feature_importances_)"
   ]
  },
  {
   "cell_type": "code",
   "execution_count": 41,
   "id": "dc62993b",
   "metadata": {
    "scrolled": true
   },
   "outputs": [
    {
     "data": {
      "image/png": "[encoded data removed]",
      "text/plain": [
       "<Figure size 432x288 with 1 Axes>"
      ]
     },
     "metadata": {
      "needs_background": "light"
     },
     "output_type": "display_data"
    }
   ],
   "source": [
    "plt.bar(range(len(classifier.feature_importances_)), classifier.feature_importances_)\n",
    "plt.show()"
   ]
  }
 ],
 "metadata": {
  "kernelspec": {
   "display_name": "Python 3 (ipykernel)",
   "language": "python",
   "name": "python3"
  },
  "language_info": {
   "codemirror_mode": {
    "name": "ipython",
    "version": 3
   },
   "file_extension": ".py",
   "mimetype": "text/x-python",
   "name": "python",
   "nbconvert_exporter": "python",
   "pygments_lexer": "ipython3",
   "version": "3.9.12"
  }
 },
 "nbformat": 4,
 "nbformat_minor": 5
}
