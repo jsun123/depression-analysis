{
 "cells": [
  {
   "cell_type": "code",
   "execution_count": 1,
   "id": "19ac560e",
   "metadata": {},
   "outputs": [
    {
     "name": "stdout",
     "output_type": "stream",
     "text": [
      "1.6.1\n"
     ]
    }
   ],
   "source": [
    "# regression: https://machinelearningmastery.com/xgboost-for-regression/\n",
    "# classifier: https://machinelearningmastery.com/develop-first-xgboost-model-python-scikit-learn/\n",
    "import numpy as np\n",
    "import pandas as pd\n",
    "import matplotlib.pyplot as plt\n",
    "\n",
    "import xgboost\n",
    "print(xgboost.__version__)\n",
    "\n",
    "from sklearn.model_selection import RepeatedKFold\n",
    "from sklearn.model_selection import cross_val_score\n",
    "\n",
    "from numpy import loadtxt\n",
    "from xgboost import XGBClassifier\n",
    "from sklearn.model_selection import train_test_split\n",
    "from sklearn.metrics import accuracy_score"
   ]
  },
  {
   "cell_type": "code",
   "execution_count": 2,
   "id": "d39d1478",
   "metadata": {
    "scrolled": true
   },
   "outputs": [
    {
     "data": {
      "text/html": [
       "<div>\n",
       "<style scoped>\n",
       "    .dataframe tbody tr th:only-of-type {\n",
       "        vertical-align: middle;\n",
       "    }\n",
       "\n",
       "    .dataframe tbody tr th {\n",
       "        vertical-align: top;\n",
       "    }\n",
       "\n",
       "    .dataframe thead th {\n",
       "        text-align: right;\n",
       "    }\n",
       "</style>\n",
       "<table border=\"1\" class=\"dataframe\">\n",
       "  <thead>\n",
       "    <tr style=\"text-align: right;\">\n",
       "      <th></th>\n",
       "      <th>URBRRL</th>\n",
       "      <th>RATCAT_A</th>\n",
       "      <th>INCGRP_A</th>\n",
       "      <th>INCTCFLG_A</th>\n",
       "      <th>FAMINCTC_A</th>\n",
       "      <th>IMPINCFLG_A</th>\n",
       "      <th>PPSU</th>\n",
       "      <th>PSTRAT</th>\n",
       "      <th>HISPALLP_A</th>\n",
       "      <th>RACEALLP_A</th>\n",
       "      <th>...</th>\n",
       "      <th>ANGEV_A</th>\n",
       "      <th>CHDEV_A</th>\n",
       "      <th>CHLEV_A</th>\n",
       "      <th>HYPEV_A</th>\n",
       "      <th>PHSTAT_A</th>\n",
       "      <th>AVAIL_A</th>\n",
       "      <th>INTV_QRT</th>\n",
       "      <th>WTFA_A</th>\n",
       "      <th>WTIA_A</th>\n",
       "      <th>POVRATTC_A</th>\n",
       "    </tr>\n",
       "  </thead>\n",
       "  <tbody>\n",
       "    <tr>\n",
       "      <th>0</th>\n",
       "      <td>4</td>\n",
       "      <td>9</td>\n",
       "      <td>3</td>\n",
       "      <td>0</td>\n",
       "      <td>60000</td>\n",
       "      <td>2</td>\n",
       "      <td>2</td>\n",
       "      <td>122</td>\n",
       "      <td>3</td>\n",
       "      <td>2</td>\n",
       "      <td>...</td>\n",
       "      <td>2</td>\n",
       "      <td>2</td>\n",
       "      <td>1</td>\n",
       "      <td>2</td>\n",
       "      <td>3</td>\n",
       "      <td>1</td>\n",
       "      <td>1</td>\n",
       "      <td>13177.008</td>\n",
       "      <td>7601.336</td>\n",
       "      <td>2.96</td>\n",
       "    </tr>\n",
       "    <tr>\n",
       "      <th>1</th>\n",
       "      <td>4</td>\n",
       "      <td>9</td>\n",
       "      <td>3</td>\n",
       "      <td>0</td>\n",
       "      <td>50000</td>\n",
       "      <td>0</td>\n",
       "      <td>2</td>\n",
       "      <td>122</td>\n",
       "      <td>2</td>\n",
       "      <td>1</td>\n",
       "      <td>...</td>\n",
       "      <td>2</td>\n",
       "      <td>2</td>\n",
       "      <td>2</td>\n",
       "      <td>2</td>\n",
       "      <td>1</td>\n",
       "      <td>1</td>\n",
       "      <td>1</td>\n",
       "      <td>6140.552</td>\n",
       "      <td>3344.434</td>\n",
       "      <td>2.97</td>\n",
       "    </tr>\n",
       "    <tr>\n",
       "      <th>2</th>\n",
       "      <td>4</td>\n",
       "      <td>12</td>\n",
       "      <td>3</td>\n",
       "      <td>0</td>\n",
       "      <td>65000</td>\n",
       "      <td>1</td>\n",
       "      <td>2</td>\n",
       "      <td>122</td>\n",
       "      <td>2</td>\n",
       "      <td>1</td>\n",
       "      <td>...</td>\n",
       "      <td>2</td>\n",
       "      <td>2</td>\n",
       "      <td>1</td>\n",
       "      <td>1</td>\n",
       "      <td>3</td>\n",
       "      <td>1</td>\n",
       "      <td>1</td>\n",
       "      <td>9191.061</td>\n",
       "      <td>6949.498</td>\n",
       "      <td>4.28</td>\n",
       "    </tr>\n",
       "    <tr>\n",
       "      <th>3</th>\n",
       "      <td>4</td>\n",
       "      <td>14</td>\n",
       "      <td>5</td>\n",
       "      <td>0</td>\n",
       "      <td>120000</td>\n",
       "      <td>0</td>\n",
       "      <td>2</td>\n",
       "      <td>122</td>\n",
       "      <td>1</td>\n",
       "      <td>8</td>\n",
       "      <td>...</td>\n",
       "      <td>2</td>\n",
       "      <td>2</td>\n",
       "      <td>2</td>\n",
       "      <td>1</td>\n",
       "      <td>2</td>\n",
       "      <td>1</td>\n",
       "      <td>1</td>\n",
       "      <td>7900.035</td>\n",
       "      <td>6446.327</td>\n",
       "      <td>7.13</td>\n",
       "    </tr>\n",
       "    <tr>\n",
       "      <th>4</th>\n",
       "      <td>1</td>\n",
       "      <td>4</td>\n",
       "      <td>1</td>\n",
       "      <td>0</td>\n",
       "      <td>30000</td>\n",
       "      <td>0</td>\n",
       "      <td>2</td>\n",
       "      <td>115</td>\n",
       "      <td>2</td>\n",
       "      <td>1</td>\n",
       "      <td>...</td>\n",
       "      <td>1</td>\n",
       "      <td>1</td>\n",
       "      <td>1</td>\n",
       "      <td>1</td>\n",
       "      <td>4</td>\n",
       "      <td>1</td>\n",
       "      <td>1</td>\n",
       "      <td>10875.772</td>\n",
       "      <td>8646.586</td>\n",
       "      <td>1.13</td>\n",
       "    </tr>\n",
       "  </tbody>\n",
       "</table>\n",
       "<p>5 rows × 163 columns</p>\n",
       "</div>"
      ],
      "text/plain": [
       "   URBRRL  RATCAT_A  INCGRP_A  INCTCFLG_A  FAMINCTC_A  IMPINCFLG_A  PPSU  \\\n",
       "0       4         9         3           0       60000            2     2   \n",
       "1       4         9         3           0       50000            0     2   \n",
       "2       4        12         3           0       65000            1     2   \n",
       "3       4        14         5           0      120000            0     2   \n",
       "4       1         4         1           0       30000            0     2   \n",
       "\n",
       "   PSTRAT  HISPALLP_A  RACEALLP_A  ...  ANGEV_A  CHDEV_A  CHLEV_A  HYPEV_A  \\\n",
       "0     122           3           2  ...        2        2        1        2   \n",
       "1     122           2           1  ...        2        2        2        2   \n",
       "2     122           2           1  ...        2        2        1        1   \n",
       "3     122           1           8  ...        2        2        2        1   \n",
       "4     115           2           1  ...        1        1        1        1   \n",
       "\n",
       "   PHSTAT_A  AVAIL_A  INTV_QRT     WTFA_A    WTIA_A  POVRATTC_A  \n",
       "0         3        1         1  13177.008  7601.336        2.96  \n",
       "1         1        1         1   6140.552  3344.434        2.97  \n",
       "2         3        1         1   9191.061  6949.498        4.28  \n",
       "3         2        1         1   7900.035  6446.327        7.13  \n",
       "4         4        1         1  10875.772  8646.586        1.13  \n",
       "\n",
       "[5 rows x 163 columns]"
      ]
     },
     "execution_count": 2,
     "metadata": {},
     "output_type": "execute_result"
    }
   ],
   "source": [
    "depev_final = pd.read_csv('depev_final.csv')\n",
    "depev_final.drop(depev_final.columns[depev_final.columns.str.contains('unnamed',case = False)],axis = 1, inplace = True)\n",
    "depev_final.head()"
   ]
  },
  {
   "cell_type": "code",
   "execution_count": 3,
   "id": "93a07cba",
   "metadata": {},
   "outputs": [
    {
     "data": {
      "text/plain": [
       "(31959, 163)"
      ]
     },
     "execution_count": 3,
     "metadata": {},
     "output_type": "execute_result"
    }
   ],
   "source": [
    "depev_final.shape"
   ]
  },
  {
   "cell_type": "markdown",
   "id": "210632cd",
   "metadata": {},
   "source": [
    "n_estimators: The number of trees in the ensemble, often increased until no further improvements are seen.\n",
    "\n",
    "max_depth: The maximum depth of each tree, often values are between 1 and 10.\n",
    "\n",
    "eta: The learning rate used to weight each model, often set to small values such as 0.3, 0.1, 0.01, or smaller.\n",
    "\n",
    "subsample: The number of samples (rows) used in each tree, set to a value between 0 and 1, often 1.0 to use all samples.\n",
    "\n",
    "colsample_bytree: Number of features (columns) used in each tree, set to a value between 0 and 1, often 1.0 to use all features."
   ]
  },
  {
   "cell_type": "code",
   "execution_count": 4,
   "id": "a0824860",
   "metadata": {},
   "outputs": [],
   "source": [
    "# create an xgboost regression model\n",
    "model = xgboost.XGBRegressor()"
   ]
  },
  {
   "cell_type": "code",
   "execution_count": 5,
   "id": "66ff2f09",
   "metadata": {},
   "outputs": [
    {
     "name": "stdout",
     "output_type": "stream",
     "text": [
      "Train:(15980, 163)\n",
      "Test:(15980, 163)\n"
     ]
    }
   ],
   "source": [
    "# split data into input and output columns, training and testing data\n",
    "depev_data = depev_final.sample(frac=1)\n",
    "\n",
    "# rerun at 50/50\n",
    "train = depev_data.sample(frac=0.5)\n",
    "print('Train:' + str(train.shape))\n",
    "\n",
    "test = depev_data.sample(frac=0.5)\n",
    "print('Test:' + str(test.shape))\n",
    "\n",
    "x_train, y_train = train.drop(['DEPEV_A'], axis=1), train['DEPEV_A']\n",
    "x_test, y_test = test.drop(['DEPEV_A'], axis=1), test['DEPEV_A']"
   ]
  },
  {
   "cell_type": "code",
   "execution_count": 6,
   "id": "08708481",
   "metadata": {
    "scrolled": true
   },
   "outputs": [
    {
     "data": {
      "text/plain": [
       "21658    2\n",
       "6368     2\n",
       "19290    2\n",
       "1562     2\n",
       "19399    2\n",
       "Name: DEPEV_A, dtype: int64"
      ]
     },
     "execution_count": 6,
     "metadata": {},
     "output_type": "execute_result"
    }
   ],
   "source": [
    "y_train.head()"
   ]
  },
  {
   "cell_type": "code",
   "execution_count": 7,
   "id": "30ce3394",
   "metadata": {},
   "outputs": [
    {
     "data": {
      "text/plain": [
       "2    13219\n",
       "1     2753\n",
       "9        8\n",
       "Name: DEPEV_A, dtype: int64"
      ]
     },
     "execution_count": 7,
     "metadata": {},
     "output_type": "execute_result"
    }
   ],
   "source": [
    "y_train.value_counts()"
   ]
  },
  {
   "cell_type": "code",
   "execution_count": 8,
   "id": "bc2debb8",
   "metadata": {},
   "outputs": [],
   "source": [
    "# define model evaluation method\n",
    "# cv = RepeatedKFold(n_splits=10, n_repeats=3, random_state=1)\n",
    "\n",
    "# evaluate model\n",
    "# scores = cross_val_score(model, x_train, y_train, scoring='neg_mean_absolute_error', cv=cv, n_jobs=-1)"
   ]
  },
  {
   "cell_type": "code",
   "execution_count": 9,
   "id": "9d363a59",
   "metadata": {},
   "outputs": [],
   "source": [
    "# force scores to be positive\n",
    "# scores = np.absolute(scores)\n",
    "# print('Mean MAE: %.3f (%.3f)' % (scores.mean(), scores.std()) )"
   ]
  },
  {
   "cell_type": "code",
   "execution_count": 10,
   "id": "86f55096",
   "metadata": {},
   "outputs": [],
   "source": [
    "# model.fit(x_train, y_train)\n",
    "# model.score(x_train, y_train)"
   ]
  },
  {
   "cell_type": "code",
   "execution_count": 11,
   "id": "ef543eaf",
   "metadata": {
    "scrolled": true
   },
   "outputs": [],
   "source": [
    "# model = xgboost.XGBRegressor()\n",
    "# model.fit(x_train, y_train)"
   ]
  },
  {
   "cell_type": "code",
   "execution_count": 12,
   "id": "86dd7d95",
   "metadata": {},
   "outputs": [],
   "source": [
    "# yhat = model.predict(x_test)\n",
    "# print('Predicted: %.3f' % yhat[0])"
   ]
  },
  {
   "cell_type": "code",
   "execution_count": 13,
   "id": "4bfed710",
   "metadata": {
    "scrolled": true
   },
   "outputs": [],
   "source": [
    "# model.score(x_test, y_test)"
   ]
  },
  {
   "cell_type": "code",
   "execution_count": null,
   "id": "d4da697a",
   "metadata": {},
   "outputs": [],
   "source": [
    "# y_pred = model.predict(x_test)\n",
    "# predictions = [round(value) for value in y_pred]\n",
    "# evaluate predictions\n",
    "# accuracy = accuracy_score(y_test, predictions)\n",
    "# print(\"Accuracy: %.2f%%\" % (accuracy * 100.0))"
   ]
  },
  {
   "cell_type": "markdown",
   "id": "650ae6c0",
   "metadata": {},
   "source": [
    "Here we will use an XGBoost classifier:"
   ]
  },
  {
   "cell_type": "code",
   "execution_count": 3,
   "id": "92bf2db5",
   "metadata": {},
   "outputs": [],
   "source": [
    "x = depev_final.drop(['DEPEV_A'], axis=1)\n",
    "y = depev_final['DEPEV_A']"
   ]
  },
  {
   "cell_type": "code",
   "execution_count": 4,
   "id": "1a138527",
   "metadata": {},
   "outputs": [],
   "source": [
    "seed = 7\n",
    "test_size = 0.33\n",
    "x2_train, x2_test, y2_train, y2_test = train_test_split(x, y, test_size=test_size, random_state=seed)"
   ]
  },
  {
   "cell_type": "code",
   "execution_count": 5,
   "id": "6735b89e",
   "metadata": {},
   "outputs": [],
   "source": [
    "from sklearn.preprocessing import LabelEncoder\n",
    "le = LabelEncoder()\n",
    "y2_train = le.fit_transform(y2_train)"
   ]
  },
  {
   "cell_type": "code",
   "execution_count": 32,
   "id": "2eb7bd59",
   "metadata": {
    "scrolled": false
   },
   "outputs": [],
   "source": [
    "estimator = XGBClassifier(learning_rate=0.001, colsample_bytree=0.5, max_depth=3, n_estimators=10)"
   ]
  },
  {
   "cell_type": "code",
   "execution_count": 33,
   "id": "379c273f",
   "metadata": {
    "scrolled": true
   },
   "outputs": [
    {
     "name": "stdout",
     "output_type": "stream",
     "text": [
      "XGBClassifier(base_score=0.5, booster='gbtree', callbacks=None,\n",
      "              colsample_bylevel=1, colsample_bynode=1, colsample_bytree=0.5,\n",
      "              early_stopping_rounds=None, enable_categorical=False,\n",
      "              eval_metric=None, gamma=0, gpu_id=-1, grow_policy='depthwise',\n",
      "              importance_type=None, interaction_constraints='',\n",
      "              learning_rate=0.001, max_bin=256, max_cat_to_onehot=4,\n",
      "              max_delta_step=0, max_depth=3, max_leaves=0, min_child_weight=1,\n",
      "              missing=nan, monotone_constraints='()', n_estimators=10, n_jobs=0,\n",
      "              num_parallel_tree=1, objective='multi:softprob', predictor='auto',\n",
      "              random_state=0, reg_alpha=0, ...)\n"
     ]
    }
   ],
   "source": [
    "estimator.fit(x2_train, y2_train)\n",
    "print(estimator)"
   ]
  },
  {
   "cell_type": "markdown",
   "id": "65d9ea44",
   "metadata": {},
   "source": [
    "What is happening here???"
   ]
  },
  {
   "cell_type": "code",
   "execution_count": 34,
   "id": "8f57a21f",
   "metadata": {
    "scrolled": true
   },
   "outputs": [
    {
     "data": {
      "text/plain": [
       "0.9213525126097516"
      ]
     },
     "execution_count": 34,
     "metadata": {},
     "output_type": "execute_result"
    }
   ],
   "source": [
    "estimator.score(x2_train, y2_train)"
   ]
  },
  {
   "cell_type": "markdown",
   "id": "9d96da10",
   "metadata": {},
   "source": [
    "This is the accuracy score for the classifier, which is very low (the regression model had a 95% accuracy):"
   ]
  },
  {
   "cell_type": "code",
   "execution_count": 35,
   "id": "744e6016",
   "metadata": {},
   "outputs": [
    {
     "name": "stdout",
     "output_type": "stream",
     "text": [
      "Accuracy: 5.75%\n"
     ]
    }
   ],
   "source": [
    "y_pred = estimator.predict(x2_test)\n",
    "predictions = [round(value) for value in y_pred]\n",
    "# evaluate predictions\n",
    "accuracy = accuracy_score(y2_test, predictions)\n",
    "print(\"Accuracy: %.2f%%\" % (accuracy * 100.0))"
   ]
  },
  {
   "cell_type": "code",
   "execution_count": 36,
   "id": "56e76e89",
   "metadata": {
    "scrolled": true
   },
   "outputs": [
    {
     "data": {
      "text/plain": [
       "0.05745709680477861"
      ]
     },
     "execution_count": 36,
     "metadata": {},
     "output_type": "execute_result"
    }
   ],
   "source": [
    "estimator.score(x2_test, y2_test)"
   ]
  },
  {
   "cell_type": "markdown",
   "id": "ee1338ee",
   "metadata": {},
   "source": [
    "The following is a feature importance analysis:"
   ]
  },
  {
   "cell_type": "code",
   "execution_count": null,
   "id": "02ba0180",
   "metadata": {},
   "outputs": [],
   "source": [
    "# https://machinelearningmastery.com/feature-importance-and-feature-selection-with-xgboost-in-python/\n",
    "# https://predictivehacks.com/feature-importance-in-python/"
   ]
  },
  {
   "cell_type": "code",
   "execution_count": null,
   "id": "efea7ae8",
   "metadata": {},
   "outputs": [],
   "source": [
    "feature_importances=pd.DataFrame({'features':x.columns,'feature_importance':classifier.feature_importances_})\n",
    "feature_importances.sort_values('feature_importance',ascending=False)"
   ]
  },
  {
   "cell_type": "code",
   "execution_count": null,
   "id": "69678a91",
   "metadata": {},
   "outputs": [],
   "source": [
    "print(classifier.feature_importances_)"
   ]
  },
  {
   "cell_type": "code",
   "execution_count": null,
   "id": "dc62993b",
   "metadata": {
    "scrolled": true
   },
   "outputs": [],
   "source": [
    "plt.bar(range(len(classifier.feature_importances_)), classifier.feature_importances_)\n",
    "plt.show()"
   ]
  }
 ],
 "metadata": {
  "kernelspec": {
   "display_name": "Python 3 (ipykernel)",
   "language": "python",
   "name": "python3"
  },
  "language_info": {
   "codemirror_mode": {
    "name": "ipython",
    "version": 3
   },
   "file_extension": ".py",
   "mimetype": "text/x-python",
   "name": "python",
   "nbconvert_exporter": "python",
   "pygments_lexer": "ipython3",
   "version": "3.9.12"
  }
 },
 "nbformat": 4,
 "nbformat_minor": 5
}
