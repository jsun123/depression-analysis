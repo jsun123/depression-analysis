{
 "cells": [
  {
   "cell_type": "code",
   "execution_count": 54,
   "id": "9e0d1484",
   "metadata": {
    "scrolled": true
   },
   "outputs": [],
   "source": [
    "import numpy as np\n",
    "import pandas as pd\n",
    "import matplotlib.pyplot as plt\n",
    "import seaborn as sns\n",
    "\n",
    "import os\n",
    "from scipy import stats\n",
    "from scipy.stats import zscore\n",
    "from math import radians, cos, sin, asin, sqrt\n",
    "import pydot_ng as pydot\n",
    "import keras\n",
    "from keras import metrics\n",
    "from keras import regularizers\n",
    "from keras.models import Sequential, load_model\n",
    "from keras.layers import Dense, Dropout, Flatten, Activation\n",
    "from keras.optimizers import Adam, RMSprop\n",
    "from keras.callbacks import TensorBoard, EarlyStopping, ModelCheckpoint\n",
    "from keras.utils import plot_model\n",
    "\n",
    "import tensorflow as tf"
   ]
  },
  {
   "cell_type": "code",
   "execution_count": 55,
   "id": "c3890329",
   "metadata": {
    "scrolled": true
   },
   "outputs": [
    {
     "data": {
      "text/html": [
       "<div>\n",
       "<style scoped>\n",
       "    .dataframe tbody tr th:only-of-type {\n",
       "        vertical-align: middle;\n",
       "    }\n",
       "\n",
       "    .dataframe tbody tr th {\n",
       "        vertical-align: top;\n",
       "    }\n",
       "\n",
       "    .dataframe thead th {\n",
       "        text-align: right;\n",
       "    }\n",
       "</style>\n",
       "<table border=\"1\" class=\"dataframe\">\n",
       "  <thead>\n",
       "    <tr style=\"text-align: right;\">\n",
       "      <th></th>\n",
       "      <th>URBRRL</th>\n",
       "      <th>RATCAT_A</th>\n",
       "      <th>INCGRP_A</th>\n",
       "      <th>INCTCFLG_A</th>\n",
       "      <th>FAMINCTC_A</th>\n",
       "      <th>IMPINCFLG_A</th>\n",
       "      <th>PPSU</th>\n",
       "      <th>PSTRAT</th>\n",
       "      <th>HISPALLP_A</th>\n",
       "      <th>RACEALLP_A</th>\n",
       "      <th>...</th>\n",
       "      <th>CHDEV_A</th>\n",
       "      <th>CHLEV_A</th>\n",
       "      <th>HYPEV_A</th>\n",
       "      <th>PHSTAT_A</th>\n",
       "      <th>AVAIL_A</th>\n",
       "      <th>INTV_QRT</th>\n",
       "      <th>WTFA_A</th>\n",
       "      <th>WTIA_A</th>\n",
       "      <th>HHX</th>\n",
       "      <th>POVRATTC_A</th>\n",
       "    </tr>\n",
       "  </thead>\n",
       "  <tbody>\n",
       "    <tr>\n",
       "      <th>0</th>\n",
       "      <td>4</td>\n",
       "      <td>9</td>\n",
       "      <td>3</td>\n",
       "      <td>0</td>\n",
       "      <td>60000</td>\n",
       "      <td>2</td>\n",
       "      <td>2</td>\n",
       "      <td>122</td>\n",
       "      <td>3</td>\n",
       "      <td>2</td>\n",
       "      <td>...</td>\n",
       "      <td>2</td>\n",
       "      <td>1</td>\n",
       "      <td>2</td>\n",
       "      <td>3</td>\n",
       "      <td>1</td>\n",
       "      <td>1</td>\n",
       "      <td>13177.008</td>\n",
       "      <td>7601.336</td>\n",
       "      <td>H048109</td>\n",
       "      <td>2.96</td>\n",
       "    </tr>\n",
       "    <tr>\n",
       "      <th>1</th>\n",
       "      <td>4</td>\n",
       "      <td>9</td>\n",
       "      <td>3</td>\n",
       "      <td>0</td>\n",
       "      <td>50000</td>\n",
       "      <td>0</td>\n",
       "      <td>2</td>\n",
       "      <td>122</td>\n",
       "      <td>2</td>\n",
       "      <td>1</td>\n",
       "      <td>...</td>\n",
       "      <td>2</td>\n",
       "      <td>2</td>\n",
       "      <td>2</td>\n",
       "      <td>1</td>\n",
       "      <td>1</td>\n",
       "      <td>1</td>\n",
       "      <td>6140.552</td>\n",
       "      <td>3344.434</td>\n",
       "      <td>H027044</td>\n",
       "      <td>2.97</td>\n",
       "    </tr>\n",
       "    <tr>\n",
       "      <th>2</th>\n",
       "      <td>4</td>\n",
       "      <td>12</td>\n",
       "      <td>3</td>\n",
       "      <td>0</td>\n",
       "      <td>65000</td>\n",
       "      <td>1</td>\n",
       "      <td>2</td>\n",
       "      <td>122</td>\n",
       "      <td>2</td>\n",
       "      <td>1</td>\n",
       "      <td>...</td>\n",
       "      <td>2</td>\n",
       "      <td>1</td>\n",
       "      <td>1</td>\n",
       "      <td>3</td>\n",
       "      <td>1</td>\n",
       "      <td>1</td>\n",
       "      <td>9191.061</td>\n",
       "      <td>6949.498</td>\n",
       "      <td>H058855</td>\n",
       "      <td>4.28</td>\n",
       "    </tr>\n",
       "    <tr>\n",
       "      <th>3</th>\n",
       "      <td>4</td>\n",
       "      <td>14</td>\n",
       "      <td>5</td>\n",
       "      <td>0</td>\n",
       "      <td>120000</td>\n",
       "      <td>0</td>\n",
       "      <td>2</td>\n",
       "      <td>122</td>\n",
       "      <td>1</td>\n",
       "      <td>8</td>\n",
       "      <td>...</td>\n",
       "      <td>2</td>\n",
       "      <td>2</td>\n",
       "      <td>1</td>\n",
       "      <td>2</td>\n",
       "      <td>1</td>\n",
       "      <td>1</td>\n",
       "      <td>7900.035</td>\n",
       "      <td>6446.327</td>\n",
       "      <td>H031993</td>\n",
       "      <td>7.13</td>\n",
       "    </tr>\n",
       "    <tr>\n",
       "      <th>4</th>\n",
       "      <td>1</td>\n",
       "      <td>4</td>\n",
       "      <td>1</td>\n",
       "      <td>0</td>\n",
       "      <td>30000</td>\n",
       "      <td>0</td>\n",
       "      <td>2</td>\n",
       "      <td>115</td>\n",
       "      <td>2</td>\n",
       "      <td>1</td>\n",
       "      <td>...</td>\n",
       "      <td>1</td>\n",
       "      <td>1</td>\n",
       "      <td>1</td>\n",
       "      <td>4</td>\n",
       "      <td>1</td>\n",
       "      <td>1</td>\n",
       "      <td>10875.772</td>\n",
       "      <td>8646.586</td>\n",
       "      <td>H007122</td>\n",
       "      <td>1.13</td>\n",
       "    </tr>\n",
       "  </tbody>\n",
       "</table>\n",
       "<p>5 rows × 165 columns</p>\n",
       "</div>"
      ],
      "text/plain": [
       "   URBRRL  RATCAT_A  INCGRP_A  INCTCFLG_A  FAMINCTC_A  IMPINCFLG_A  PPSU  \\\n",
       "0       4         9         3           0       60000            2     2   \n",
       "1       4         9         3           0       50000            0     2   \n",
       "2       4        12         3           0       65000            1     2   \n",
       "3       4        14         5           0      120000            0     2   \n",
       "4       1         4         1           0       30000            0     2   \n",
       "\n",
       "   PSTRAT  HISPALLP_A  RACEALLP_A  ...  CHDEV_A  CHLEV_A  HYPEV_A  PHSTAT_A  \\\n",
       "0     122           3           2  ...        2        1        2         3   \n",
       "1     122           2           1  ...        2        2        2         1   \n",
       "2     122           2           1  ...        2        1        1         3   \n",
       "3     122           1           8  ...        2        2        1         2   \n",
       "4     115           2           1  ...        1        1        1         4   \n",
       "\n",
       "   AVAIL_A  INTV_QRT     WTFA_A    WTIA_A      HHX  POVRATTC_A  \n",
       "0        1         1  13177.008  7601.336  H048109        2.96  \n",
       "1        1         1   6140.552  3344.434  H027044        2.97  \n",
       "2        1         1   9191.061  6949.498  H058855        4.28  \n",
       "3        1         1   7900.035  6446.327  H031993        7.13  \n",
       "4        1         1  10875.772  8646.586  H007122        1.13  \n",
       "\n",
       "[5 rows x 165 columns]"
      ]
     },
     "execution_count": 55,
     "metadata": {},
     "output_type": "execute_result"
    }
   ],
   "source": [
    "depev_final = pd.read_csv('depev_final.csv')\n",
    "depev_final.drop(depev_final.columns[depev_final.columns.str.contains('unnamed',case = False)],axis = 1, inplace = True)\n",
    "depev_final.head()"
   ]
  },
  {
   "cell_type": "code",
   "execution_count": 56,
   "id": "58075662",
   "metadata": {
    "scrolled": true
   },
   "outputs": [
    {
     "data": {
      "text/plain": [
       "0        2\n",
       "1        2\n",
       "2        2\n",
       "3        2\n",
       "4        1\n",
       "        ..\n",
       "31954    2\n",
       "31955    2\n",
       "31956    2\n",
       "31957    1\n",
       "31958    2\n",
       "Name: DEPEV_A, Length: 31959, dtype: int64"
      ]
     },
     "execution_count": 56,
     "metadata": {},
     "output_type": "execute_result"
    }
   ],
   "source": [
    "depev_final['DEPEV_A']"
   ]
  },
  {
   "cell_type": "code",
   "execution_count": 57,
   "id": "5a472e0a",
   "metadata": {
    "scrolled": true
   },
   "outputs": [
    {
     "name": "stdout",
     "output_type": "stream",
     "text": [
      "Train:(25567, 165)\n",
      "Validate:(3196, 165)\n",
      "Test:(3196, 165)\n"
     ]
    }
   ],
   "source": [
    "depev_data = depev_final.sample(frac=1)\n",
    "\n",
    "train = depev_data.sample(frac=0.8)\n",
    "print('Train:' + str(train.shape))\n",
    "validate = depev_data.sample(frac=0.1)\n",
    "print('Validate:' + str(validate.shape))\n",
    "test = depev_data.sample(frac=0.1)\n",
    "print('Test:' + str(test.shape))\n",
    "\n",
    "label_column = 'DEPEV_A'\n",
    "depev_label = depev_data[['DEPEV_A']].to_numpy()"
   ]
  },
  {
   "cell_type": "code",
   "execution_count": 58,
   "id": "5f8990d7",
   "metadata": {
    "scrolled": false
   },
   "outputs": [
    {
     "name": "stdout",
     "output_type": "stream",
     "text": [
      "(25567, 164)\n",
      "(25567, 1)\n",
      "(3196, 164)\n",
      "(3196, 1)\n",
      "(3196, 164)\n",
      "(3196, 1)\n"
     ]
    }
   ],
   "source": [
    "# Split into train val test\n",
    "x_train = train.drop(['DEPEV_A'], axis=1)\n",
    "y_train = train[['DEPEV_A']].to_numpy()\n",
    "\n",
    "x_val = validate.drop(['DEPEV_A'], axis=1)\n",
    "y_val = validate[['DEPEV_A']].to_numpy()\n",
    "\n",
    "x_test = test.drop(['DEPEV_A'], axis=1)\n",
    "y_test = test[['DEPEV_A']].to_numpy()\n",
    "\n",
    "print(x_train.shape)\n",
    "print(y_train.shape)\n",
    "print(x_val.shape)\n",
    "print(y_val.shape)\n",
    "print(x_test.shape)\n",
    "print(y_test.shape)"
   ]
  },
  {
   "cell_type": "code",
   "execution_count": 59,
   "id": "213d0f5a",
   "metadata": {
    "scrolled": true
   },
   "outputs": [
    {
     "name": "stderr",
     "output_type": "stream",
     "text": [
      "/Users/josephsun/opt/anaconda3/lib/python3.9/site-packages/keras/optimizers/optimizer_v2/adam.py:110: UserWarning: The `lr` argument is deprecated, use `learning_rate` instead.\n",
      "  super(Adam, self).__init__(name, **kwargs)\n"
     ]
    }
   ],
   "source": [
    "xsize=164\n",
    "ysize=1\n",
    "\n",
    "t_model = Sequential()\n",
    "t_model.add(Dense(100, activation=\"relu\", input_shape=(xsize,)))\n",
    "t_model.add(Dense(50, activation=\"relu\"))\n",
    "t_model.add(Dense(ysize))\n",
    "t_model.compile(\n",
    "    loss=\"mean_squared_error\",\n",
    "    optimizer=Adam(lr=0.001),\n",
    "    metrics=[metrics.mae])"
   ]
  },
  {
   "cell_type": "code",
   "execution_count": 60,
   "id": "744c1d56",
   "metadata": {},
   "outputs": [
    {
     "ename": "ValueError",
     "evalue": "Failed to convert a NumPy array to a Tensor (Unsupported object type int).",
     "output_type": "error",
     "traceback": [
      "\u001b[0;31m---------------------------------------------------------------------------\u001b[0m",
      "\u001b[0;31mValueError\u001b[0m                                Traceback (most recent call last)",
      "Input \u001b[0;32mIn [60]\u001b[0m, in \u001b[0;36m<cell line: 6>\u001b[0;34m()\u001b[0m\n\u001b[1;32m      2\u001b[0m batch \u001b[38;5;241m=\u001b[39m \u001b[38;5;241m128\u001b[39m\n\u001b[1;32m      4\u001b[0m \u001b[38;5;66;03m# cols = list(train.columns)\u001b[39;00m\n\u001b[1;32m      5\u001b[0m \u001b[38;5;66;03m# cols.remove(label_column)\u001b[39;00m\n\u001b[0;32m----> 6\u001b[0m history \u001b[38;5;241m=\u001b[39m \u001b[43mt_model\u001b[49m\u001b[38;5;241;43m.\u001b[39;49m\u001b[43mfit\u001b[49m\u001b[43m(\u001b[49m\n\u001b[1;32m      7\u001b[0m \u001b[43m    \u001b[49m\u001b[43mx_train\u001b[49m\u001b[43m,\u001b[49m\u001b[43m \u001b[49m\u001b[43my_train\u001b[49m\u001b[43m,\u001b[49m\n\u001b[1;32m      8\u001b[0m \u001b[43m    \u001b[49m\u001b[43mbatch_size\u001b[49m\u001b[38;5;241;43m=\u001b[39;49m\u001b[43mbatch\u001b[49m\u001b[43m,\u001b[49m\n\u001b[1;32m      9\u001b[0m \u001b[43m    \u001b[49m\u001b[43mepochs\u001b[49m\u001b[38;5;241;43m=\u001b[39;49m\u001b[43mepochs\u001b[49m\u001b[43m,\u001b[49m\n\u001b[1;32m     10\u001b[0m \u001b[43m    \u001b[49m\u001b[43mshuffle\u001b[49m\u001b[38;5;241;43m=\u001b[39;49m\u001b[38;5;28;43;01mTrue\u001b[39;49;00m\u001b[43m,\u001b[49m\n\u001b[1;32m     11\u001b[0m \u001b[43m    \u001b[49m\u001b[43mverbose\u001b[49m\u001b[38;5;241;43m=\u001b[39;49m\u001b[38;5;241;43m1\u001b[39;49m\u001b[43m,\u001b[49m\n\u001b[1;32m     12\u001b[0m \u001b[43m    \u001b[49m\u001b[43mvalidation_data\u001b[49m\u001b[38;5;241;43m=\u001b[39;49m\u001b[43m(\u001b[49m\u001b[43mx_val\u001b[49m\u001b[43m,\u001b[49m\u001b[43my_val\u001b[49m\u001b[43m)\u001b[49m\n\u001b[1;32m     13\u001b[0m \u001b[43m)\u001b[49m\n\u001b[1;32m     14\u001b[0m score \u001b[38;5;241m=\u001b[39m model\u001b[38;5;241m.\u001b[39mevaluate(x_test, y_test, verbose\u001b[38;5;241m=\u001b[39m\u001b[38;5;241m0\u001b[39m)\n",
      "File \u001b[0;32m~/opt/anaconda3/lib/python3.9/site-packages/keras/utils/traceback_utils.py:67\u001b[0m, in \u001b[0;36mfilter_traceback.<locals>.error_handler\u001b[0;34m(*args, **kwargs)\u001b[0m\n\u001b[1;32m     65\u001b[0m \u001b[38;5;28;01mexcept\u001b[39;00m \u001b[38;5;167;01mException\u001b[39;00m \u001b[38;5;28;01mas\u001b[39;00m e:  \u001b[38;5;66;03m# pylint: disable=broad-except\u001b[39;00m\n\u001b[1;32m     66\u001b[0m   filtered_tb \u001b[38;5;241m=\u001b[39m _process_traceback_frames(e\u001b[38;5;241m.\u001b[39m__traceback__)\n\u001b[0;32m---> 67\u001b[0m   \u001b[38;5;28;01mraise\u001b[39;00m e\u001b[38;5;241m.\u001b[39mwith_traceback(filtered_tb) \u001b[38;5;28;01mfrom\u001b[39;00m \u001b[38;5;28mNone\u001b[39m\n\u001b[1;32m     68\u001b[0m \u001b[38;5;28;01mfinally\u001b[39;00m:\n\u001b[1;32m     69\u001b[0m   \u001b[38;5;28;01mdel\u001b[39;00m filtered_tb\n",
      "File \u001b[0;32m~/opt/anaconda3/lib/python3.9/site-packages/tensorflow/python/framework/constant_op.py:102\u001b[0m, in \u001b[0;36mconvert_to_eager_tensor\u001b[0;34m(value, ctx, dtype)\u001b[0m\n\u001b[1;32m    100\u001b[0m     dtype \u001b[38;5;241m=\u001b[39m dtypes\u001b[38;5;241m.\u001b[39mas_dtype(dtype)\u001b[38;5;241m.\u001b[39mas_datatype_enum\n\u001b[1;32m    101\u001b[0m ctx\u001b[38;5;241m.\u001b[39mensure_initialized()\n\u001b[0;32m--> 102\u001b[0m \u001b[38;5;28;01mreturn\u001b[39;00m \u001b[43mops\u001b[49m\u001b[38;5;241;43m.\u001b[39;49m\u001b[43mEagerTensor\u001b[49m\u001b[43m(\u001b[49m\u001b[43mvalue\u001b[49m\u001b[43m,\u001b[49m\u001b[43m \u001b[49m\u001b[43mctx\u001b[49m\u001b[38;5;241;43m.\u001b[39;49m\u001b[43mdevice_name\u001b[49m\u001b[43m,\u001b[49m\u001b[43m \u001b[49m\u001b[43mdtype\u001b[49m\u001b[43m)\u001b[49m\n",
      "\u001b[0;31mValueError\u001b[0m: Failed to convert a NumPy array to a Tensor (Unsupported object type int)."
     ]
    }
   ],
   "source": [
    "epochs = 500\n",
    "batch = 128\n",
    "\n",
    "# cols = list(train.columns)\n",
    "# cols.remove(label_column)\n",
    "history = t_model.fit(\n",
    "    x_train, y_train,\n",
    "    batch_size=batch,\n",
    "    epochs=epochs,\n",
    "    shuffle=True,\n",
    "    verbose=1,\n",
    "    validation_data=(x_val,y_val)\n",
    ")\n",
    "score = model.evaluate(x_test, y_test, verbose=0)"
   ]
  }
 ],
 "metadata": {
  "kernelspec": {
   "display_name": "Python 3 (ipykernel)",
   "language": "python",
   "name": "python3"
  },
  "language_info": {
   "codemirror_mode": {
    "name": "ipython",
    "version": 3
   },
   "file_extension": ".py",
   "mimetype": "text/x-python",
   "name": "python",
   "nbconvert_exporter": "python",
   "pygments_lexer": "ipython3",
   "version": "3.9.12"
  }
 },
 "nbformat": 4,
 "nbformat_minor": 5
}
